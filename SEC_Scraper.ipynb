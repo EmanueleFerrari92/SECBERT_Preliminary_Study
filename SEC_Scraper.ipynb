{
 "cells": [
  {
   "cell_type": "code",
   "execution_count": 1,
   "id": "bebb68da",
   "metadata": {},
   "outputs": [],
   "source": [
    "import bs4\n",
    "import requests\n",
    "from bs4 import BeautifulSoup\n",
    "import pandas as pd\n",
    "import random"
   ]
  },
  {
   "cell_type": "code",
   "execution_count": 4,
   "id": "16839b77",
   "metadata": {},
   "outputs": [],
   "source": [
    "# header needed to interact with SEC APIs\n",
    "\n",
    "USER_AGENT = 'test@test.com'\n",
    "headers = {'User-Agent': USER_AGENT}"
   ]
  },
  {
   "cell_type": "code",
   "execution_count": 9,
   "id": "885382c3",
   "metadata": {},
   "outputs": [],
   "source": [
    "\n",
    "def get_10k_details(cik, n, headers=headers):\n",
    "    cik = str(cik).zfill(10)\n",
    "    base_url = f\"https://www.sec.gov/cgi-bin/browse-edgar?action=getcompany&CIK={cik}&type=10-K&count={n}\"\n",
    "    response = requests.get(base_url, headers=headers)\n",
    "    soup = BeautifulSoup(response.text, \"html.parser\")\n",
    "\n",
    "    # Extracting company information\n",
    "    company_name_tag = soup.find(\"span\", class_=\"companyName\")\n",
    "    company_name = company_name_tag.text.split(\" CIK\")[0] if company_name_tag else \"\"\n",
    "    if company_name_tag and company_name_tag.find(\"a\"):\n",
    "        cik_number = company_name_tag.find(\"a\").text.replace(' (see all company filings)','')\n",
    "    else: \n",
    "        print(company_name_tag)\n",
    "        print(cik)\n",
    "        raise ValueError('No CIK found')\n",
    "\n",
    "    entries = []\n",
    "    table = soup.find(\"table\", class_=\"tableFile2\")\n",
    "    if table:\n",
    "        rows = table.find_all(\"tr\")[1:]  # skip header row\n",
    "        for row in rows:\n",
    "            cells = row.find_all(\"td\")\n",
    "            if len(cells) >= 5:\n",
    "                form = cells[0].text.strip()\n",
    "                filing_date = cells[3].text.strip()\n",
    "                acc_no = cells[2].text.split(\"Acc-no:\")[1].split()[0].strip() if \"Acc-no:\" in cells[2].text else \"\"\n",
    "                documents_link = cells[1].find(\"a\", href=True)[\"href\"]\n",
    "                interactive_data_link = cells[1].find(\"a\", href=True, id=\"interactiveDataBtn\")[\"href\"] if cells[1].find(\"a\", href=True, id=\"interactiveDataBtn\") else \"\"\n",
    "                \n",
    "                entry_dict = {\n",
    "                    \"form\": form,\n",
    "                    \"file_number\": acc_no,\n",
    "                    \"form_link\": None,\n",
    "                    \"attachments_link\": None,\n",
    "                    \"index_link\": \"https://www.sec.gov\" + documents_link,\n",
    "                    \"interactive_elements_link\": \"https://www.sec.gov\" + interactive_data_link,\n",
    "                    \"year\": None,\n",
    "                    \"quarter\": \"full year\",\n",
    "                    \"filing_date\": filing_date,\n",
    "                    \"CIK\": cik_number,\n",
    "                    \"company_name\": company_name\n",
    "                    }\n",
    "                entries.append(entry_dict)\n",
    "    \n",
    "    for entry in entries:\n",
    "        updated_entry_dict = update_entry_with_attachments(entry)\n",
    "\n",
    "    return entries\n",
    "\n",
    "def update_entry_with_attachments(entry_dict, headers=headers):\n",
    "    headers = headers\n",
    "    response = requests.get(entry_dict['index_link'], headers=headers)\n",
    "    soup = BeautifulSoup(response.text, \"html.parser\")\n",
    "\n",
    "    # Initialize attachments link as an empty dictionary\n",
    "    entry_dict['attachments_link'] = {}\n",
    "\n",
    "    # Find all tables with class 'tableFile' (both Document Format Files and Data Files)\n",
    "    tables = soup.find_all(\"table\", class_=\"tableFile\")\n",
    "    for table in tables:\n",
    "        rows = table.find_all(\"tr\")[1:]  # skip header row\n",
    "        for row in rows:\n",
    "            cells = row.find_all(\"td\")\n",
    "            if len(cells) > 3:  # Ensure row has enough columns to avoid IndexError\n",
    "                seq = cells[0].text.strip()\n",
    "                description = cells[1].text.strip()\n",
    "                doc_link = cells[2].find(\"a\", href=True)[\"href\"].strip() if cells[2].find(\"a\", href=True) else \"\"\n",
    "                doc_type = cells[3].text.strip()\n",
    "\n",
    "                # Check for the 10-K document to update form_link\n",
    "                if doc_type in ['10-K', '10-K/A', '10-KT', '10-KT/A'] and entry_dict['form_link'] is None:\n",
    "                    entry_dict['form_link'] = \"https://www.sec.gov\" + doc_link.replace('ix?doc=/','')\n",
    "                else:\n",
    "                    key_format = f\"{seq}-{description}-{doc_type}\" if description else f\"{seq}-no_description-{doc_type}\"\n",
    "                    entry_dict['attachments_link'][key_format] = \"https://www.sec.gov\" + doc_link\n",
    "\n",
    "    period_of_report_div = soup.find(\"div\", class_=\"infoHead\", string=\"Period of Report\")\n",
    "    if period_of_report_div:\n",
    "        period_of_report_info = period_of_report_div.find_next_sibling(\"div\", class_=\"info\")\n",
    "        if period_of_report_info:\n",
    "            period_of_report = period_of_report_info.text.strip()\n",
    "            report_year = period_of_report.split(\"-\")[0]  # Extract the year part\n",
    "            entry_dict['year'] = report_year\n",
    "        else:\n",
    "            print(entry_dict['company_name'], 'CIK', \"Period of Report info not found.1\")\n",
    "    else:\n",
    "        print(entry_dict['company_name'], 'CIK', \"Period of Report info not found.2\")\n",
    "\n",
    "    return entry_dict\n",
    "\n"
   ]
  },
  {
   "cell_type": "code",
   "execution_count": 6,
   "id": "cbb06258",
   "metadata": {},
   "outputs": [],
   "source": [
    "sp500 = pd.read_csv('sp500_constituents.csv')\n",
    "sp500_CIK = [str(cik).zfill(10) for cik in sp500['CIK'].unique()]\n",
    "# sp500_CIK"
   ]
  },
  {
   "cell_type": "code",
   "execution_count": 7,
   "id": "f5b5911d",
   "metadata": {},
   "outputs": [
    {
     "name": "stdout",
     "output_type": "stream",
     "text": [
      "https://www.sec.gov/Archives/edgar/data/202058/000020205824000029/hrs-20231229.htm\n",
      "https://www.sec.gov/Archives/edgar/data/202058/000020205824000029/0000202058-24-000029-index.htm\n",
      "https://www.sec.gov/Archives/edgar/data/202058/000020205823000014/hrs-20221230.htm\n",
      "https://www.sec.gov/Archives/edgar/data/202058/000020205823000014/0000202058-23-000014-index.htm\n",
      "https://www.sec.gov/Archives/edgar/data/202058/000020205822000015/hrs-20211231.htm\n",
      "https://www.sec.gov/Archives/edgar/data/202058/000020205822000015/0000202058-22-000015-index.htm\n",
      "https://www.sec.gov/Archives/edgar/data/202058/000020205821000008/hrs-20210101.htm\n",
      "https://www.sec.gov/Archives/edgar/data/202058/000020205821000008/0000202058-21-000008-index.htm\n",
      "https://www.sec.gov/Archives/edgar/data/202058/000020205820000011/lhx13202010-kt.htm\n",
      "https://www.sec.gov/Archives/edgar/data/202058/000020205820000011/0000202058-20-000011-index.htm\n",
      "https://www.sec.gov/Archives/edgar/data/202058/000020205819000090/hrs628201910-k.htm\n",
      "https://www.sec.gov/Archives/edgar/data/202058/000020205819000090/0000202058-19-000090-index.htm\n",
      "https://www.sec.gov/Archives/edgar/data/202058/000020205818000063/hrs629201810-k.htm\n",
      "https://www.sec.gov/Archives/edgar/data/202058/000020205818000063/0000202058-18-000063-index.htm\n",
      "https://www.sec.gov/Archives/edgar/data/202058/000020205817000037/hrs630201710-k.htm\n",
      "https://www.sec.gov/Archives/edgar/data/202058/000020205817000037/0000202058-17-000037-index.htm\n",
      "https://www.sec.gov/Archives/edgar/data/202058/000020205816000022/hrs71201610-k.htm\n",
      "https://www.sec.gov/Archives/edgar/data/202058/000020205816000022/0000202058-16-000022-index.htm\n",
      "https://www.sec.gov/Archives/edgar/data/202058/000119312515308363/d22254d10k.htm\n",
      "https://www.sec.gov/Archives/edgar/data/202058/000119312515308363/0001193125-15-308363-index.htm\n"
     ]
    }
   ],
   "source": [
    "get_10k_details(random.choice(sp500_CIK), 5)\n",
    "\n",
    "test = get_10k_details('0000202058', 5)\n",
    "\n",
    "for d in test:\n",
    "    print(d['form_link'])\n",
    "    print(d['index_link'])\n"
   ]
  },
  {
   "cell_type": "code",
   "execution_count": 10,
   "id": "afd6d22d",
   "metadata": {
    "scrolled": true
   },
   "outputs": [
    {
     "data": {
      "application/vnd.jupyter.widget-view+json": {
       "model_id": "2f81f7e1c30748baa4db86cd46b4514b",
       "version_major": 2,
       "version_minor": 0
      },
      "text/plain": [
       "Retrieving 10-K Details:   0%|          | 0/500 [00:00<?, ?it/s]"
      ]
     },
     "metadata": {},
     "output_type": "display_data"
    },
    {
     "name": "stdout",
     "output_type": "stream",
     "text": [
      "CPU times: user 2min 10s, sys: 4.55 s, total: 2min 15s\n",
      "Wall time: 27min 46s\n"
     ]
    }
   ],
   "source": [
    "%%time\n",
    "\n",
    "# documents_sp500 = [get_10k_details(cik, 10) for cik in sp500_CIK]\n",
    "\n",
    "from tqdm.notebook import tqdm  # or from tqdm import tqdm_notebook as tqdm in older versions\n",
    "\n",
    "# Assuming sp500_CIK is your list of CIKs\n",
    "documents_sp500 = [get_10k_details(cik, 10) for cik in tqdm(sp500_CIK, desc=\"Retrieving 10-K Details\")]\n",
    "\n",
    "\n",
    "document_dictionaries = [document_dict for document_list in documents_sp500 for document_dict in document_list]\n"
   ]
  },
  {
   "cell_type": "code",
   "execution_count": 13,
   "id": "d946906b",
   "metadata": {},
   "outputs": [
    {
     "name": "stdout",
     "output_type": "stream",
     "text": [
      "4843\n",
      "4843\n"
     ]
    }
   ],
   "source": [
    "print(len(document_dictionaries))\n"
   ]
  },
  {
   "cell_type": "code",
   "execution_count": 15,
   "id": "8b216f9f",
   "metadata": {},
   "outputs": [],
   "source": [
    "import json\n",
    "\n",
    "# Define the file path\n",
    "file_path = \"sp500_ten_years_documents.json\"\n",
    "\n",
    "# Write the list of dictionaries to the JSON file\n",
    "with open(file_path, 'w') as json_file:\n",
    "    json.dump(document_dictionaries, json_file)"
   ]
  },
  {
   "cell_type": "code",
   "execution_count": null,
   "id": "35ef599e",
   "metadata": {},
   "outputs": [],
   "source": []
  }
 ],
 "metadata": {
  "kernelspec": {
   "display_name": "Python 3 (ipykernel)",
   "language": "python",
   "name": "python3"
  },
  "language_info": {
   "codemirror_mode": {
    "name": "ipython",
    "version": 3
   },
   "file_extension": ".py",
   "mimetype": "text/x-python",
   "name": "python",
   "nbconvert_exporter": "python",
   "pygments_lexer": "ipython3",
   "version": "3.9.6"
  }
 },
 "nbformat": 4,
 "nbformat_minor": 5
}
